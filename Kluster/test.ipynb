{
 "cells": [
  {
   "cell_type": "code",
   "execution_count": 53,
   "id": "0f80bc4f",
   "metadata": {},
   "outputs": [],
   "source": [
    "import pandas as pd\n",
    "import matplotlib.pyplot as plt\n",
    "import numpy as np\n",
    "from sklearn.decomposition import PCA\n",
    "from IPython.display import clear_output"
   ]
  },
  {
   "cell_type": "code",
   "execution_count": 54,
   "id": "1c0e15c6",
   "metadata": {},
   "outputs": [],
   "source": [
    "class Kmeans:\n",
    "    def __init__ (self,df, K,max_iters):\n",
    "        self.df = df\n",
    "        self.K = K\n",
    "        self.max_iters = max_iters\n",
    "        self.centroids = None\n",
    "        self.labels = None\n",
    "        \n",
    "    def create_centroids(self,k):\n",
    "        centroids = []\n",
    "        for i in range(k):\n",
    "            centroid = self.df.apply(lambda x: float(x.sample()))\n",
    "            centroids.append(centroid)\n",
    "        return pd.concat(centroids, axis= 1)\n",
    "\n",
    "    def get_labels(self, centroids):\n",
    "        distances = centroids.apply(lambda x:np.sqrt(((self.df - x) ** 2).sum(axis=1)))\n",
    "        return distances.idxmin(axis=1)\n",
    "\n",
    "    def new_centroids(self, labels, k):\n",
    "        return df.groupby(labels).apply(lambda x: np.exp(np.log(x).mean())).T\n",
    "    \n",
    "    def plot_clusters(self, labels, centriods, iteration):\n",
    "        pca = PCA (n_components= 2)\n",
    "        df_2d = pca.fit_transform(self.df)\n",
    "        centriods_2d = pca.transform (centroids.T)\n",
    "        clear_output (wait = True)\n",
    "        plt.title (f'Iteration {iteration}')\n",
    "        plt.scatter(x = df_2d[:,0], y =df_2d[:,1], c= labels)\n",
    "        plt.scatter(x=centriods_2d[:, 0], y=centriods_2d [:,1])\n",
    "        plt.show()\n",
    "    def fit(self):\n",
    "        self.centroids = self.create_centroids(self.K)\n",
    "        for i in range(self.max_iters):\n",
    "            self.labels = self.get_labels(self.centroids)\n",
    "            self.plot_clusters(self.labels, self.centroids, i)\n",
    "            new_centroids = self.new_centroids(self.labels, self.K)\n",
    "            if np.allclose(self.centroids.values, new_centroids.values):\n",
    "                break\n",
    "            self.centroids = new_centroids"
   ]
  },
  {
   "cell_type": "code",
   "execution_count": 2,
   "id": "28082db1",
   "metadata": {},
   "outputs": [],
   "source": [
    "df = pd.read_csv('small_iris.csv')"
   ]
  },
  {
   "cell_type": "code",
   "execution_count": 3,
   "id": "85fdeacb",
   "metadata": {},
   "outputs": [
    {
     "data": {
      "text/html": [
       "<div>\n",
       "<style scoped>\n",
       "    .dataframe tbody tr th:only-of-type {\n",
       "        vertical-align: middle;\n",
       "    }\n",
       "\n",
       "    .dataframe tbody tr th {\n",
       "        vertical-align: top;\n",
       "    }\n",
       "\n",
       "    .dataframe thead th {\n",
       "        text-align: right;\n",
       "    }\n",
       "</style>\n",
       "<table border=\"1\" class=\"dataframe\">\n",
       "  <thead>\n",
       "    <tr style=\"text-align: right;\">\n",
       "      <th></th>\n",
       "      <th>sepal length (cm)</th>\n",
       "      <th>petal length (cm)</th>\n",
       "    </tr>\n",
       "  </thead>\n",
       "  <tbody>\n",
       "    <tr>\n",
       "      <th>0</th>\n",
       "      <td>5.1</td>\n",
       "      <td>1.4</td>\n",
       "    </tr>\n",
       "    <tr>\n",
       "      <th>1</th>\n",
       "      <td>4.9</td>\n",
       "      <td>1.4</td>\n",
       "    </tr>\n",
       "    <tr>\n",
       "      <th>2</th>\n",
       "      <td>4.7</td>\n",
       "      <td>1.3</td>\n",
       "    </tr>\n",
       "    <tr>\n",
       "      <th>3</th>\n",
       "      <td>4.6</td>\n",
       "      <td>1.5</td>\n",
       "    </tr>\n",
       "    <tr>\n",
       "      <th>4</th>\n",
       "      <td>5.0</td>\n",
       "      <td>1.4</td>\n",
       "    </tr>\n",
       "    <tr>\n",
       "      <th>...</th>\n",
       "      <td>...</td>\n",
       "      <td>...</td>\n",
       "    </tr>\n",
       "    <tr>\n",
       "      <th>145</th>\n",
       "      <td>6.7</td>\n",
       "      <td>5.2</td>\n",
       "    </tr>\n",
       "    <tr>\n",
       "      <th>146</th>\n",
       "      <td>6.3</td>\n",
       "      <td>5.0</td>\n",
       "    </tr>\n",
       "    <tr>\n",
       "      <th>147</th>\n",
       "      <td>6.5</td>\n",
       "      <td>5.2</td>\n",
       "    </tr>\n",
       "    <tr>\n",
       "      <th>148</th>\n",
       "      <td>6.2</td>\n",
       "      <td>5.4</td>\n",
       "    </tr>\n",
       "    <tr>\n",
       "      <th>149</th>\n",
       "      <td>5.9</td>\n",
       "      <td>5.1</td>\n",
       "    </tr>\n",
       "  </tbody>\n",
       "</table>\n",
       "<p>150 rows × 2 columns</p>\n",
       "</div>"
      ],
      "text/plain": [
       "     sepal length (cm)  petal length (cm)\n",
       "0                  5.1                1.4\n",
       "1                  4.9                1.4\n",
       "2                  4.7                1.3\n",
       "3                  4.6                1.5\n",
       "4                  5.0                1.4\n",
       "..                 ...                ...\n",
       "145                6.7                5.2\n",
       "146                6.3                5.0\n",
       "147                6.5                5.2\n",
       "148                6.2                5.4\n",
       "149                5.9                5.1\n",
       "\n",
       "[150 rows x 2 columns]"
      ]
     },
     "execution_count": 3,
     "metadata": {},
     "output_type": "execute_result"
    }
   ],
   "source": [
    "df"
   ]
  },
  {
   "cell_type": "code",
   "execution_count": 6,
   "id": "060f2940",
   "metadata": {},
   "outputs": [],
   "source": [
    "df = ((df - df.min()) / (df.max() - df.min())) * 9 + 1"
   ]
  },
  {
   "cell_type": "markdown",
   "id": "e6464377",
   "metadata": {},
   "source": [
    "kmeans_model = Kmeans(K = 3, max_iters=100)"
   ]
  },
  {
   "cell_type": "code",
   "execution_count": 8,
   "id": "4eb373d1",
   "metadata": {},
   "outputs": [
    {
     "data": {
      "text/html": [
       "<div>\n",
       "<style scoped>\n",
       "    .dataframe tbody tr th:only-of-type {\n",
       "        vertical-align: middle;\n",
       "    }\n",
       "\n",
       "    .dataframe tbody tr th {\n",
       "        vertical-align: top;\n",
       "    }\n",
       "\n",
       "    .dataframe thead th {\n",
       "        text-align: right;\n",
       "    }\n",
       "</style>\n",
       "<table border=\"1\" class=\"dataframe\">\n",
       "  <thead>\n",
       "    <tr style=\"text-align: right;\">\n",
       "      <th></th>\n",
       "      <th>sepal length (cm)</th>\n",
       "      <th>petal length (cm)</th>\n",
       "    </tr>\n",
       "  </thead>\n",
       "  <tbody>\n",
       "    <tr>\n",
       "      <th>count</th>\n",
       "      <td>150.000000</td>\n",
       "      <td>150.000000</td>\n",
       "    </tr>\n",
       "    <tr>\n",
       "      <th>mean</th>\n",
       "      <td>4.858333</td>\n",
       "      <td>5.207119</td>\n",
       "    </tr>\n",
       "    <tr>\n",
       "      <th>std</th>\n",
       "      <td>2.070165</td>\n",
       "      <td>2.692828</td>\n",
       "    </tr>\n",
       "    <tr>\n",
       "      <th>min</th>\n",
       "      <td>1.000000</td>\n",
       "      <td>1.000000</td>\n",
       "    </tr>\n",
       "    <tr>\n",
       "      <th>25%</th>\n",
       "      <td>3.000000</td>\n",
       "      <td>1.915254</td>\n",
       "    </tr>\n",
       "    <tr>\n",
       "      <th>50%</th>\n",
       "      <td>4.750000</td>\n",
       "      <td>6.110169</td>\n",
       "    </tr>\n",
       "    <tr>\n",
       "      <th>75%</th>\n",
       "      <td>6.250000</td>\n",
       "      <td>7.254237</td>\n",
       "    </tr>\n",
       "    <tr>\n",
       "      <th>max</th>\n",
       "      <td>10.000000</td>\n",
       "      <td>10.000000</td>\n",
       "    </tr>\n",
       "  </tbody>\n",
       "</table>\n",
       "</div>"
      ],
      "text/plain": [
       "       sepal length (cm)  petal length (cm)\n",
       "count         150.000000         150.000000\n",
       "mean            4.858333           5.207119\n",
       "std             2.070165           2.692828\n",
       "min             1.000000           1.000000\n",
       "25%             3.000000           1.915254\n",
       "50%             4.750000           6.110169\n",
       "75%             6.250000           7.254237\n",
       "max            10.000000          10.000000"
      ]
     },
     "execution_count": 8,
     "metadata": {},
     "output_type": "execute_result"
    }
   ],
   "source": [
    "df.describe()"
   ]
  },
  {
   "cell_type": "code",
   "execution_count": 9,
   "id": "305ae8a6",
   "metadata": {},
   "outputs": [
    {
     "data": {
      "text/html": [
       "<div>\n",
       "<style scoped>\n",
       "    .dataframe tbody tr th:only-of-type {\n",
       "        vertical-align: middle;\n",
       "    }\n",
       "\n",
       "    .dataframe tbody tr th {\n",
       "        vertical-align: top;\n",
       "    }\n",
       "\n",
       "    .dataframe thead th {\n",
       "        text-align: right;\n",
       "    }\n",
       "</style>\n",
       "<table border=\"1\" class=\"dataframe\">\n",
       "  <thead>\n",
       "    <tr style=\"text-align: right;\">\n",
       "      <th></th>\n",
       "      <th>sepal length (cm)</th>\n",
       "      <th>petal length (cm)</th>\n",
       "    </tr>\n",
       "  </thead>\n",
       "  <tbody>\n",
       "    <tr>\n",
       "      <th>0</th>\n",
       "      <td>3.00</td>\n",
       "      <td>1.610169</td>\n",
       "    </tr>\n",
       "    <tr>\n",
       "      <th>1</th>\n",
       "      <td>2.50</td>\n",
       "      <td>1.610169</td>\n",
       "    </tr>\n",
       "    <tr>\n",
       "      <th>2</th>\n",
       "      <td>2.00</td>\n",
       "      <td>1.457627</td>\n",
       "    </tr>\n",
       "    <tr>\n",
       "      <th>3</th>\n",
       "      <td>1.75</td>\n",
       "      <td>1.762712</td>\n",
       "    </tr>\n",
       "    <tr>\n",
       "      <th>4</th>\n",
       "      <td>2.75</td>\n",
       "      <td>1.610169</td>\n",
       "    </tr>\n",
       "  </tbody>\n",
       "</table>\n",
       "</div>"
      ],
      "text/plain": [
       "   sepal length (cm)  petal length (cm)\n",
       "0               3.00           1.610169\n",
       "1               2.50           1.610169\n",
       "2               2.00           1.457627\n",
       "3               1.75           1.762712\n",
       "4               2.75           1.610169"
      ]
     },
     "execution_count": 9,
     "metadata": {},
     "output_type": "execute_result"
    }
   ],
   "source": [
    "df.head()"
   ]
  },
  {
   "cell_type": "code",
   "execution_count": 12,
   "id": "35bdb0ff",
   "metadata": {},
   "outputs": [],
   "source": [
    "def create_centroids(df,k):\n",
    "    centroids = []\n",
    "    for i in range(k):\n",
    "        centroid = df.apply(lambda x: float(x.sample()))\n",
    "        centroids.append(centroid)\n",
    "    return pd.concat(centroids, axis= 1)"
   ]
  },
  {
   "cell_type": "code",
   "execution_count": 13,
   "id": "3a43e86c",
   "metadata": {},
   "outputs": [],
   "source": [
    "centroids = create_centroids(df, 5)"
   ]
  },
  {
   "cell_type": "code",
   "execution_count": 14,
   "id": "3332d495",
   "metadata": {},
   "outputs": [
    {
     "data": {
      "text/html": [
       "<div>\n",
       "<style scoped>\n",
       "    .dataframe tbody tr th:only-of-type {\n",
       "        vertical-align: middle;\n",
       "    }\n",
       "\n",
       "    .dataframe tbody tr th {\n",
       "        vertical-align: top;\n",
       "    }\n",
       "\n",
       "    .dataframe thead th {\n",
       "        text-align: right;\n",
       "    }\n",
       "</style>\n",
       "<table border=\"1\" class=\"dataframe\">\n",
       "  <thead>\n",
       "    <tr style=\"text-align: right;\">\n",
       "      <th></th>\n",
       "      <th>0</th>\n",
       "      <th>1</th>\n",
       "      <th>2</th>\n",
       "      <th>3</th>\n",
       "      <th>4</th>\n",
       "    </tr>\n",
       "  </thead>\n",
       "  <tbody>\n",
       "    <tr>\n",
       "      <th>sepal length (cm)</th>\n",
       "      <td>3.000000</td>\n",
       "      <td>5.500000</td>\n",
       "      <td>10.000000</td>\n",
       "      <td>2.250000</td>\n",
       "      <td>2.50000</td>\n",
       "    </tr>\n",
       "    <tr>\n",
       "      <th>petal length (cm)</th>\n",
       "      <td>1.915254</td>\n",
       "      <td>1.762712</td>\n",
       "      <td>1.915254</td>\n",
       "      <td>9.237288</td>\n",
       "      <td>6.79661</td>\n",
       "    </tr>\n",
       "  </tbody>\n",
       "</table>\n",
       "</div>"
      ],
      "text/plain": [
       "                          0         1          2         3        4\n",
       "sepal length (cm)  3.000000  5.500000  10.000000  2.250000  2.50000\n",
       "petal length (cm)  1.915254  1.762712   1.915254  9.237288  6.79661"
      ]
     },
     "execution_count": 14,
     "metadata": {},
     "output_type": "execute_result"
    }
   ],
   "source": [
    "centroids"
   ]
  },
  {
   "cell_type": "code",
   "execution_count": 24,
   "id": "c96237e4",
   "metadata": {},
   "outputs": [],
   "source": [
    "def get_labels(df, centroids):\n",
    "    distances = centroids.apply(lambda x:np.sqrt(((df - x) ** 2).sum(axis=1)))\n",
    "    return distances.idxmin(axis=1)"
   ]
  },
  {
   "cell_type": "code",
   "execution_count": 25,
   "id": "11988ea5",
   "metadata": {},
   "outputs": [],
   "source": [
    "labels = get_labels (df,centroids)"
   ]
  },
  {
   "cell_type": "code",
   "execution_count": 26,
   "id": "ea2b0e52",
   "metadata": {},
   "outputs": [
    {
     "data": {
      "text/plain": [
       "4    87\n",
       "0    48\n",
       "3     9\n",
       "1     3\n",
       "2     3\n",
       "dtype: int64"
      ]
     },
     "execution_count": 26,
     "metadata": {},
     "output_type": "execute_result"
    }
   ],
   "source": [
    "labels.value_counts()"
   ]
  },
  {
   "cell_type": "code",
   "execution_count": 29,
   "id": "033d9fac",
   "metadata": {},
   "outputs": [],
   "source": [
    "def new_centroids(df, labels, k):\n",
    "    return df.groupby(labels).apply(lambda x: np.exp(np.log(x).mean())).T"
   ]
  },
  {
   "cell_type": "code",
   "execution_count": 35,
   "id": "358599a6",
   "metadata": {},
   "outputs": [],
   "source": [
    "def plot_clusters(df, labels, centriods, iteration):\n",
    "    pca = PCA (n_components= 2)\n",
    "    df_2d = pca.fit_transform(df)\n",
    "    centriods_2d = pca.transform (centroids.T)\n",
    "    clear_output (wait = True)\n",
    "    plt.title (f'Iteration {iteration}')\n",
    "    plt.scatter(x = df_2d[:,0], y =df_2d[:,1], c= labels)\n",
    "    plt.scatter(x=centriods_2d[:, 0], y=centriods_2d [:,1])\n",
    "    plt.show()"
   ]
  },
  {
   "cell_type": "code",
   "execution_count": 39,
   "id": "4bde0b27",
   "metadata": {},
   "outputs": [
    {
     "data": {
      "image/png": "[encoded data removed]",
      "text/plain": [
       "<Figure size 640x480 with 1 Axes>"
      ]
     },
     "metadata": {},
     "output_type": "display_data"
    }
   ],
   "source": [
    "max_iter = 100\n",
    "k = 3\n",
    "centroids = create_centroids(df,k)\n",
    "old_centroids = pd.DataFrame()\n",
    "iteration = 1\n",
    "while iteration < max_iter and not centroids.equals(old_centroids):\n",
    "    old_centroids = centroids\n",
    "    labels = get_labels(df, centroids)\n",
    "    centroids = new_centroids(df, labels, k)\n",
    "    plot_clusters (df, labels, centroids, iteration)\n",
    "    iteration +=1"
   ]
  },
  {
   "cell_type": "code",
   "execution_count": 40,
   "id": "824798a2",
   "metadata": {},
   "outputs": [
    {
     "data": {
      "text/html": [
       "<div>\n",
       "<style scoped>\n",
       "    .dataframe tbody tr th:only-of-type {\n",
       "        vertical-align: middle;\n",
       "    }\n",
       "\n",
       "    .dataframe tbody tr th {\n",
       "        vertical-align: top;\n",
       "    }\n",
       "\n",
       "    .dataframe thead th {\n",
       "        text-align: right;\n",
       "    }\n",
       "</style>\n",
       "<table border=\"1\" class=\"dataframe\">\n",
       "  <thead>\n",
       "    <tr style=\"text-align: right;\">\n",
       "      <th></th>\n",
       "      <th>0</th>\n",
       "      <th>1</th>\n",
       "      <th>2</th>\n",
       "    </tr>\n",
       "  </thead>\n",
       "  <tbody>\n",
       "    <tr>\n",
       "      <th>sepal length (cm)</th>\n",
       "      <td>7.123482</td>\n",
       "      <td>4.585065</td>\n",
       "      <td>2.620734</td>\n",
       "    </tr>\n",
       "    <tr>\n",
       "      <th>petal length (cm)</th>\n",
       "      <td>7.835365</td>\n",
       "      <td>6.057060</td>\n",
       "      <td>1.713173</td>\n",
       "    </tr>\n",
       "  </tbody>\n",
       "</table>\n",
       "</div>"
      ],
      "text/plain": [
       "                          0         1         2\n",
       "sepal length (cm)  7.123482  4.585065  2.620734\n",
       "petal length (cm)  7.835365  6.057060  1.713173"
      ]
     },
     "execution_count": 40,
     "metadata": {},
     "output_type": "execute_result"
    }
   ],
   "source": [
    "centroids"
   ]
  },
  {
   "cell_type": "code",
   "execution_count": null,
   "id": "58eb8458",
   "metadata": {},
   "outputs": [],
   "source": []
  }
 ],
 "metadata": {
  "kernelspec": {
   "display_name": "Python 3 (ipykernel)",
   "language": "python",
   "name": "python3"
  },
  "language_info": {
   "codemirror_mode": {
    "name": "ipython",
    "version": 3
   },
   "file_extension": ".py",
   "mimetype": "text/x-python",
   "name": "python",
   "nbconvert_exporter": "python",
   "pygments_lexer": "ipython3",
   "version": "3.10.7"
  }
 },
 "nbformat": 4,
 "nbformat_minor": 5
}
